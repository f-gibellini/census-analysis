{
 "cells": [
  {
   "cell_type": "code",
   "execution_count": 2,
   "id": "ff03fdcf-4535-4d49-af58-5a4f3c0220bf",
   "metadata": {},
   "outputs": [],
   "source": [
    "from sklearn.linear_model import LogisticRegression\n",
    "from sklearn.tree import DecisionTreeClassifier\n",
    "from sklearn.ensemble import RandomForestClassifier\n",
    "from catboost import CatBoostClassifier\n",
    "from sklearn.model_selection import train_test_split\n",
    "from sklearn.metrics import classification_report\n",
    "from matplotlib import pyplot as plt\n",
    "\n",
    "import pandas as pd\n",
    "import os\n",
    "import sys\n",
    "import warnings\n",
    "warnings.filterwarnings('ignore')\n",
    "\n",
    "if not os.path.abspath(os.pardir+ '/src') in sys.path:\n",
    "    sys.path.append(os.path.abspath(os.pardir) + '/src')\n",
    "\n",
    "from data_reader import read_data\n",
    "from features_processor import FeaturesProcessor\n",
    "from ml_experiments import *\n",
    "from config import *"
   ]
  },
  {
   "cell_type": "markdown",
   "id": "6f7eb0d7-718a-43f0-a82b-2b11ab9f5d78",
   "metadata": {},
   "source": [
    "### Read Data and prepare features"
   ]
  },
  {
   "cell_type": "code",
   "execution_count": 3,
   "id": "3c902027-710b-416f-83c4-fc7ab5edb4ae",
   "metadata": {
    "scrolled": true
   },
   "outputs": [
    {
     "name": "stdout",
     "output_type": "stream",
     "text": [
      "Read input data file ../data/census_income_learn.csv\n",
      "Read metadata file ../data/census_income_metadata.txt\n",
      "Couldnt parse line \n",
      "Mapped columns\n",
      "Read input data file ../data/census_income_test.csv\n",
      "Read metadata file ../data/census_income_metadata.txt\n",
      "Couldnt parse line \n",
      "Mapped columns\n"
     ]
    },
    {
     "data": {
      "text/plain": [
       "((99762, 41), (199523, 41))"
      ]
     },
     "execution_count": 3,
     "metadata": {},
     "output_type": "execute_result"
    }
   ],
   "source": [
    "train_df = read_data(DATA_PATH + TRAIN_FNAME, DATA_PATH + METADATA_FNAME, drop_cols = IGNORE_FEATURES)\n",
    "test_df = read_data(DATA_PATH + TEST_FNAME, DATA_PATH + METADATA_FNAME, drop_cols = IGNORE_FEATURES)\n",
    "\n",
    "test_df.shape, train_df.shape"
   ]
  },
  {
   "cell_type": "code",
   "execution_count": 4,
   "id": "72024584-9085-4407-8b67-cb8ac1e475b8",
   "metadata": {},
   "outputs": [
    {
     "name": "stdout",
     "output_type": "stream",
     "text": [
      "Scaling Numerical Features\n",
      "Missing max values to scale in 0..1 range, will calculate from current data\n",
      "Encoders not found, creating new encoders\n",
      "Scaling Numerical Features\n",
      "Encoders were found, using existing encoders\n"
     ]
    },
    {
     "data": {
      "text/plain": [
       "((179570, 424), (19953, 424), (99762, 424))"
      ]
     },
     "execution_count": 4,
     "metadata": {},
     "output_type": "execute_result"
    }
   ],
   "source": [
    "fprocessor = FeaturesProcessor('OHE')\n",
    "\n",
    "encoded_train_df, encoders = fprocessor.transform_features(train_df, make_calculated = True)\n",
    "encoded_test_df, encoders = fprocessor.transform_features(test_df, make_calculated = True)\n",
    "\n",
    "encoded_train_df, encoded_val_df = train_test_split(encoded_train_df, test_size=0.1, random_state=32)\n",
    "\n",
    "\n",
    "encoded_train_df.shape, encoded_val_df.shape, encoded_test_df.shape"
   ]
  },
  {
   "cell_type": "markdown",
   "id": "c7c93b9c-872e-49aa-8819-4dc9b0bfb00f",
   "metadata": {},
   "source": [
    "### First try models with new calculated  features"
   ]
  },
  {
   "cell_type": "code",
   "execution_count": 6,
   "id": "1f99cf34-54e2-48b1-ba92-83acf2b30e6c",
   "metadata": {
    "scrolled": true
   },
   "outputs": [
    {
     "name": "stdout",
     "output_type": "stream",
     "text": [
      "CatBoostClassifier(iterations=1000,silent=True,task_type=CPU,random_state=32)\n",
      "[0.602990834539315, 0.500801282051282, 0.7575757575757576, '[[18505   623]\\n [  200   625]]']\n",
      "\n"
     ]
    }
   ],
   "source": [
    "# feature names\n",
    "feat_names = [col for col in encoded_train_df.columns if (col != TARGET_NAME)]\n",
    "\n",
    "\n",
    "# given previous experiment only keep best version of each model\n",
    "\n",
    "models = [ #LogisticRegression(C=1.0, class_weight='balanced', max_iter=200, n_jobs = N_JOBS), #strong regularization, class balancing\n",
    "          #LogisticRegression(C=1.0, class_weight='balanced', max_iter=500, n_jobs = N_JOBS), \n",
    "          #LogisticRegression(C=1.0, class_weight='balanced', max_iter=1000, n_jobs = N_JOBS), \n",
    "          #LogisticRegression(C=0.1, class_weight='balanced', max_iter=200, n_jobs = N_JOBS), #weak regularization, class balancing\n",
    "          #LogisticRegression(C=0.1, class_weight='balanced', max_iter=500, n_jobs = N_JOBS), \n",
    "          LogisticRegression(C=0.1, class_weight='balanced', max_iter=1000, n_jobs = N_JOBS, random_state=32), \n",
    "\n",
    "          #DecisionTreeClassifier(max_depth=4, class_weight='balanced'),\n",
    "          #DecisionTreeClassifier(max_depth=7, class_weight='balanced'),\n",
    "          #DecisionTreeClassifier(max_depth=10, class_weight='balanced'),\n",
    "          DecisionTreeClassifier(max_depth=13, class_weight='balanced', random_state=32),\n",
    "\n",
    "          #RandomForestClassifier(n_estimators=500, max_depth=3, max_features=0.3, n_jobs=N_JOBS), #try not very deep trees\n",
    "          #RandomForestClassifier(n_estimators=1000, max_depth=3, max_features=0.3, n_jobs=N_JOBS),\n",
    "          RandomForestClassifier(n_estimators=1500, max_depth=3, max_features=0.3, n_jobs=N_JOBS, random_state=32),\n",
    "          #RandomForestClassifier(n_estimators=500, max_depth=6, n_jobs=N_JOBS), #try deeper trees\n",
    "          #RandomForestClassifier(n_estimators=1000, max_depth=6, n_jobs=N_JOBS),\n",
    "          #RandomForestClassifier(n_estimators=1500, max_depth=6, n_jobs=N_JOBS),\n",
    "    \n",
    "          #CatBoostClassifier(iterations = 500, task_type = 'GPU' if GPU else 'CPU'),\n",
    "          CatBoostClassifier(iterations = 1000, task_type = 'GPU' if GPU else 'CPU', silent = True, random_state=32),\n",
    "          #CatBoostClassifier(iterations = 1500, task_type = 'GPU' if GPU else 'CPU'),\n",
    "          #CatBoostClassifier(iterations = 2000, task_type = 'GPU' if GPU else 'CPU'),\n",
    "         \n",
    "         \n",
    "         ]\n",
    "\n",
    "exp_name_base = 'feats_eng'\n",
    "#folder to store artifacts\n",
    "#folder to store artifacts\n",
    "if not os.path.isdir(MODELS_PATH + exp_name_base):\n",
    "    os.mkdir(MODELS_PATH + exp_name_base)\n",
    "\n",
    "for model in models:\n",
    "\n",
    "    model.fit(encoded_train_df[feat_names], encoded_train_df[TARGET_NAME])\n",
    "\n",
    "    metrics = evaluate_model(model.predict(encoded_val_df[feat_names]), encoded_val_df[TARGET_NAME])\n",
    "    model_name = get_model_string(model)\n",
    "    \n",
    "    log_model(exp_name_base, model_name,\n",
    "             MODELS_PATH + MODELS_LOG_FNAME,\n",
    "             metrics)\n",
    "\n",
    "    save_model_pickle(model, MODELS_PATH + f'{exp_name_base}/' + model_name[:100] + '.pkl')\n",
    "    print(model_name)\n",
    "    print(metrics)\n",
    "    print()\n",
    "\n"
   ]
  },
  {
   "cell_type": "code",
   "execution_count": 7,
   "id": "390cd263-2a08-4d67-b363-06fcafbc8eea",
   "metadata": {},
   "outputs": [
    {
     "name": "stdout",
     "output_type": "stream",
     "text": [
      "              precision    recall  f1-score   support\n",
      "\n",
      "           0       0.99      0.97      0.98     95865\n",
      "           1       0.48      0.77      0.59      3897\n",
      "\n",
      "    accuracy                           0.96     99762\n",
      "   macro avg       0.74      0.87      0.79     99762\n",
      "weighted avg       0.97      0.96      0.96     99762\n",
      "\n"
     ]
    }
   ],
   "source": [
    "print(classification_report(model.predict(encoded_test_df[feat_names]), encoded_test_df[TARGET_NAME]))"
   ]
  },
  {
   "cell_type": "code",
   "execution_count": 10,
   "id": "40c4576e-32fd-4b1e-901a-069ef9637f4f",
   "metadata": {},
   "outputs": [
    {
     "data": {
      "image/png": "[encoded data removed]",
      "text/plain": [
       "<Figure size 1728x720 with 1 Axes>"
      ]
     },
     "metadata": {
      "needs_background": "light"
     },
     "output_type": "display_data"
    }
   ],
   "source": [
    "PLOT_MAX = 20\n",
    "importances = sorted([(name,imp/max(model.feature_importances_)) for name, imp in zip(feat_names, model.feature_importances_)], \n",
    "                     key = lambda x:-x[1])[:PLOT_MAX]\n",
    "\n",
    "plt.figure(figsize=(24, 10))\n",
    "plt.bar([e[0] for e in importances], [e[1] for e in importances], color = COLORS[0])\n",
    "plt.title('Feature Importances')\n",
    "plt.xticks(rotation = 90)\n",
    "plt.show()"
   ]
  },
  {
   "cell_type": "markdown",
   "id": "dc095f5b-4f05-4ba3-89bf-41d53d9d19a0",
   "metadata": {},
   "source": [
    "### Then we can Check if Features Selection brings any benefits"
   ]
  },
  {
   "cell_type": "code",
   "execution_count": 10,
   "id": "030000fb-f81a-4402-974c-d8b8db675a95",
   "metadata": {
    "scrolled": true
   },
   "outputs": [
    {
     "name": "stdout",
     "output_type": "stream",
     "text": [
      "LogisticRegression(C=0.1,class_weight=balanced,dual=False,fit_intercept=True,intercept_scaling=1,l1_ratio=None,max_iter=1000,multi_class=deprecated,n_jobs=6,penalty=l2,random_state=32,solver=lbfgs,tol=0.0001,verbose=0,warm_start=False)\n",
      "[0.43346303501945527, 0.8926282051282052, 0.28622816032887977, '[[15927   134]\\n [ 2778  1114]]']\n",
      "\n",
      "DecisionTreeClassifier(ccp_alpha=0.0,class_weight=balanced,criterion=gini,max_depth=13,max_features=None,max_leaf_nodes=None,min_impurity_decrease=0.0,min_samples_leaf=1,min_samples_split=2,min_weight_fraction_leaf=0.0,monotonic_cst=None,random_state=32,splitter=best)\n",
      "[0.42735042735042733, 0.8413461538461539, 0.2864157119476268, '[[16089   198]\\n [ 2616  1050]]']\n",
      "\n",
      "RandomForestClassifier(bootstrap=True,ccp_alpha=0.0,class_weight=None,criterion=gini,max_depth=3,max_features=0.3,max_leaf_nodes=None,max_samples=None,min_impurity_decrease=0.0,min_samples_leaf=1,min_samples_split=2,min_weight_fraction_leaf=0.0,monotonic_cst=None,n_estimators=1500,n_jobs=6,oob_score=False,random_state=32,verbose=0,warm_start=False)\n",
      "[0.24453551912568305, 0.14342948717948717, 0.8287037037037037, '[[18668  1069]\\n [   37   179]]']\n",
      "\n",
      "CatBoostClassifier(iterations=1000,silent=True,task_type=GPU,random_state=32)\n",
      "[0.5770946950917204, 0.46634615384615385, 0.7568270481144344, '[[18518   666]\\n [  187   582]]']\n",
      "\n",
      "-------------------------------------------------- (19953, 300)\n",
      "LogisticRegression(C=0.1,class_weight=balanced,dual=False,fit_intercept=True,intercept_scaling=1,l1_ratio=None,max_iter=1000,multi_class=deprecated,n_jobs=6,penalty=l2,random_state=32,solver=lbfgs,tol=0.0001,verbose=0,warm_start=False)\n",
      "[0.42889996167113836, 0.8966346153846154, 0.2818639798488665, '[[15854   129]\\n [ 2851  1119]]']\n",
      "\n",
      "DecisionTreeClassifier(ccp_alpha=0.0,class_weight=balanced,criterion=gini,max_depth=13,max_features=None,max_leaf_nodes=None,min_impurity_decrease=0.0,min_samples_leaf=1,min_samples_split=2,min_weight_fraction_leaf=0.0,monotonic_cst=None,random_state=32,splitter=best)\n",
      "[0.42304593070104757, 0.8413461538461539, 0.28256189451022606, '[[16039   198]\\n [ 2666  1050]]']\n",
      "\n",
      "RandomForestClassifier(bootstrap=True,ccp_alpha=0.0,class_weight=None,criterion=gini,max_depth=3,max_features=0.3,max_leaf_nodes=None,max_samples=None,min_impurity_decrease=0.0,min_samples_leaf=1,min_samples_split=2,min_weight_fraction_leaf=0.0,monotonic_cst=None,n_estimators=1500,n_jobs=6,oob_score=False,random_state=32,verbose=0,warm_start=False)\n",
      "[0.22805805114029026, 0.13221153846153846, 0.8291457286432161, '[[18671  1083]\\n [   34   165]]']\n",
      "\n",
      "CatBoostClassifier(iterations=1000,silent=True,task_type=GPU,random_state=32)\n",
      "[0.5747241725175527, 0.45913461538461536, 0.7680965147453083, '[[18532   675]\\n [  173   573]]']\n",
      "\n",
      "-------------------------------------------------- (19953, 200)\n",
      "LogisticRegression(C=0.1,class_weight=balanced,dual=False,fit_intercept=True,intercept_scaling=1,l1_ratio=None,max_iter=1000,multi_class=deprecated,n_jobs=6,penalty=l2,random_state=32,solver=lbfgs,tol=0.0001,verbose=0,warm_start=False)\n",
      "[0.40967441860465115, 0.8822115384615384, 0.266779743154834, '[[15679   147]\\n [ 3026  1101]]']\n",
      "\n",
      "DecisionTreeClassifier(ccp_alpha=0.0,class_weight=balanced,criterion=gini,max_depth=13,max_features=None,max_leaf_nodes=None,min_impurity_decrease=0.0,min_samples_leaf=1,min_samples_split=2,min_weight_fraction_leaf=0.0,monotonic_cst=None,random_state=32,splitter=best)\n",
      "[0.39105129137868316, 0.8613782051282052, 0.2529411764705882, '[[15530   173]\\n [ 3175  1075]]']\n",
      "\n",
      "RandomForestClassifier(bootstrap=True,ccp_alpha=0.0,class_weight=None,criterion=gini,max_depth=3,max_features=0.3,max_leaf_nodes=None,max_samples=None,min_impurity_decrease=0.0,min_samples_leaf=1,min_samples_split=2,min_weight_fraction_leaf=0.0,monotonic_cst=None,n_estimators=1500,n_jobs=6,oob_score=False,random_state=32,verbose=0,warm_start=False)\n",
      "[0.23071577484364142, 0.1330128205128205, 0.8691099476439791, '[[18680  1082]\\n [   25   166]]']\n",
      "\n",
      "CatBoostClassifier(iterations=1000,silent=True,task_type=GPU,random_state=32)\n",
      "[0.5485017775520569, 0.4326923076923077, 0.7489597780859917, '[[18524   708]\\n [  181   540]]']\n",
      "\n",
      "-------------------------------------------------- (19953, 100)\n",
      "LogisticRegression(C=0.1,class_weight=balanced,dual=False,fit_intercept=True,intercept_scaling=1,l1_ratio=None,max_iter=1000,multi_class=deprecated,n_jobs=6,penalty=l2,random_state=32,solver=lbfgs,tol=0.0001,verbose=0,warm_start=False)\n",
      "[0.3701377987092273, 0.8501602564102564, 0.23656633221850612, '[[15281   187]\\n [ 3424  1061]]']\n",
      "\n",
      "DecisionTreeClassifier(ccp_alpha=0.0,class_weight=balanced,criterion=gini,max_depth=13,max_features=None,max_leaf_nodes=None,min_impurity_decrease=0.0,min_samples_leaf=1,min_samples_split=2,min_weight_fraction_leaf=0.0,monotonic_cst=None,random_state=32,splitter=best)\n",
      "[0.36247408431237044, 0.8405448717948718, 0.23105726872246696, '[[15214   199]\\n [ 3491  1049]]']\n",
      "\n",
      "RandomForestClassifier(bootstrap=True,ccp_alpha=0.0,class_weight=None,criterion=gini,max_depth=3,max_features=0.3,max_leaf_nodes=None,max_samples=None,min_impurity_decrease=0.0,min_samples_leaf=1,min_samples_split=2,min_weight_fraction_leaf=0.0,monotonic_cst=None,n_estimators=1500,n_jobs=6,oob_score=False,random_state=32,verbose=0,warm_start=False)\n",
      "[0.0, 0.0, 0.0, '[[18705  1248]\\n [    0     0]]']\n",
      "\n",
      "CatBoostClassifier(iterations=1000,silent=True,task_type=GPU,random_state=32)\n",
      "[0.3984418475236505, 0.28685897435897434, 0.6520947176684881, '[[18514   890]\\n [  191   358]]']\n",
      "\n",
      "-------------------------------------------------- (19953, 60)\n",
      "LogisticRegression(C=0.1,class_weight=balanced,dual=False,fit_intercept=True,intercept_scaling=1,l1_ratio=None,max_iter=1000,multi_class=deprecated,n_jobs=6,penalty=l2,random_state=32,solver=lbfgs,tol=0.0001,verbose=0,warm_start=False)\n",
      "[0.26879910213243546, 0.7676282051282052, 0.1629251700680272, '[[13783   290]\\n [ 4922   958]]']\n",
      "\n",
      "DecisionTreeClassifier(ccp_alpha=0.0,class_weight=balanced,criterion=gini,max_depth=13,max_features=None,max_leaf_nodes=None,min_impurity_decrease=0.0,min_samples_leaf=1,min_samples_split=2,min_weight_fraction_leaf=0.0,monotonic_cst=None,random_state=32,splitter=best)\n",
      "[0.36194735936693617, 0.842948717948718, 0.23044906900328588, '[[15192   196]\\n [ 3513  1052]]']\n",
      "\n",
      "RandomForestClassifier(bootstrap=True,ccp_alpha=0.0,class_weight=None,criterion=gini,max_depth=3,max_features=0.3,max_leaf_nodes=None,max_samples=None,min_impurity_decrease=0.0,min_samples_leaf=1,min_samples_split=2,min_weight_fraction_leaf=0.0,monotonic_cst=None,n_estimators=1500,n_jobs=6,oob_score=False,random_state=32,verbose=0,warm_start=False)\n",
      "[0.0, 0.0, 0.0, '[[18705  1248]\\n [    0     0]]']\n",
      "\n",
      "CatBoostClassifier(iterations=1000,silent=True,task_type=GPU,random_state=32)\n",
      "[0.3946784922394678, 0.28525641025641024, 0.6402877697841727, '[[18505   892]\\n [  200   356]]']\n",
      "\n",
      "-------------------------------------------------- (19953, 30)\n",
      "LogisticRegression(C=0.1,class_weight=balanced,dual=False,fit_intercept=True,intercept_scaling=1,l1_ratio=None,max_iter=1000,multi_class=deprecated,n_jobs=6,penalty=l2,random_state=32,solver=lbfgs,tol=0.0001,verbose=0,warm_start=False)\n",
      "[0.25558121632024633, 0.7980769230769231, 0.152153987167736, '[[13155   252]\\n [ 5550   996]]']\n",
      "\n",
      "DecisionTreeClassifier(ccp_alpha=0.0,class_weight=balanced,criterion=gini,max_depth=13,max_features=None,max_leaf_nodes=None,min_impurity_decrease=0.0,min_samples_leaf=1,min_samples_split=2,min_weight_fraction_leaf=0.0,monotonic_cst=None,random_state=32,splitter=best)\n",
      "[0.36407432897453545, 0.8477564102564102, 0.2318141980718668, '[[15199   190]\\n [ 3506  1058]]']\n",
      "\n",
      "RandomForestClassifier(bootstrap=True,ccp_alpha=0.0,class_weight=None,criterion=gini,max_depth=3,max_features=0.3,max_leaf_nodes=None,max_samples=None,min_impurity_decrease=0.0,min_samples_leaf=1,min_samples_split=2,min_weight_fraction_leaf=0.0,monotonic_cst=None,n_estimators=1500,n_jobs=6,oob_score=False,random_state=32,verbose=0,warm_start=False)\n",
      "[0.0, 0.0, 0.0, '[[18705  1248]\\n [    0     0]]']\n",
      "\n",
      "CatBoostClassifier(iterations=1000,silent=True,task_type=GPU,random_state=32)\n",
      "[0.3678290213723285, 0.2620192307692308, 0.6169811320754717, '[[18502   921]\\n [  203   327]]']\n",
      "\n",
      "-------------------------------------------------- (19953, 20)\n",
      "LogisticRegression(C=0.1,class_weight=balanced,dual=False,fit_intercept=True,intercept_scaling=1,l1_ratio=None,max_iter=1000,multi_class=deprecated,n_jobs=6,penalty=l2,random_state=32,solver=lbfgs,tol=0.0001,verbose=0,warm_start=False)\n",
      "[0.18833277348561192, 0.6738782051282052, 0.1094624495639724, '[[11863   407]\\n [ 6842   841]]']\n",
      "\n",
      "DecisionTreeClassifier(ccp_alpha=0.0,class_weight=balanced,criterion=gini,max_depth=13,max_features=None,max_leaf_nodes=None,min_impurity_decrease=0.0,min_samples_leaf=1,min_samples_split=2,min_weight_fraction_leaf=0.0,monotonic_cst=None,random_state=32,splitter=best)\n",
      "[0.37323556370302474, 0.8157051282051282, 0.2419776562871405, '[[15516   230]\\n [ 3189  1018]]']\n",
      "\n",
      "RandomForestClassifier(bootstrap=True,ccp_alpha=0.0,class_weight=None,criterion=gini,max_depth=3,max_features=0.3,max_leaf_nodes=None,max_samples=None,min_impurity_decrease=0.0,min_samples_leaf=1,min_samples_split=2,min_weight_fraction_leaf=0.0,monotonic_cst=None,n_estimators=1500,n_jobs=6,oob_score=False,random_state=32,verbose=0,warm_start=False)\n",
      "[0.0, 0.0, 0.0, '[[18705  1248]\\n [    0     0]]']\n",
      "\n",
      "CatBoostClassifier(iterations=1000,silent=True,task_type=GPU,random_state=32)\n",
      "[0.2111716621253406, 0.12419871794871795, 0.7045454545454546, '[[18640  1093]\\n [   65   155]]']\n",
      "\n",
      "-------------------------------------------------- (19953, 10)\n"
     ]
    }
   ],
   "source": [
    "best_model = model\n",
    "\n",
    "for max_n_features in reversed([10, 20, 30, 60, 100, 200, 300]):\n",
    "    \n",
    "    importances = sorted([(name,imp/max(best_model.feature_importances_)) for name, imp in zip(feat_names, best_model.feature_importances_)], \n",
    "                         key = lambda x:-x[1])[:max_n_features]\n",
    "    \n",
    "    importances = set([i[0] for i in importances])\n",
    "    \n",
    "    # feature names\n",
    "    feat_names = [col for col in encoded_train_df.columns if ((col != TARGET_NAME) and (col in importances))]\n",
    "    \n",
    "    \n",
    "    # given previous experiment only keep best version of each model\n",
    "    \n",
    "    models = [ #LogisticRegression(C=1.0, class_weight='balanced', max_iter=200, n_jobs = N_JOBS), #strong regularization, class balancing\n",
    "              #LogisticRegression(C=1.0, class_weight='balanced', max_iter=500, n_jobs = N_JOBS), \n",
    "              #LogisticRegression(C=1.0, class_weight='balanced', max_iter=1000, n_jobs = N_JOBS), \n",
    "              #LogisticRegression(C=0.1, class_weight='balanced', max_iter=200, n_jobs = N_JOBS), #weak regularization, class balancing\n",
    "              #LogisticRegression(C=0.1, class_weight='balanced', max_iter=500, n_jobs = N_JOBS), \n",
    "              LogisticRegression(C=0.1, class_weight='balanced', max_iter=1000, n_jobs = N_JOBS, random_state=32), \n",
    "    \n",
    "              #DecisionTreeClassifier(max_depth=4, class_weight='balanced'),\n",
    "              #DecisionTreeClassifier(max_depth=7, class_weight='balanced'),\n",
    "              #DecisionTreeClassifier(max_depth=10, class_weight='balanced'),\n",
    "              DecisionTreeClassifier(max_depth=13, class_weight='balanced', random_state=32),\n",
    "    \n",
    "              #RandomForestClassifier(n_estimators=500, max_depth=3, max_features=0.3, n_jobs=N_JOBS), #try not very deep trees\n",
    "              #RandomForestClassifier(n_estimators=1000, max_depth=3, max_features=0.3, n_jobs=N_JOBS),\n",
    "              RandomForestClassifier(n_estimators=1500, max_depth=3, max_features=0.3, n_jobs=N_JOBS, random_state=32),\n",
    "              #RandomForestClassifier(n_estimators=500, max_depth=6, n_jobs=N_JOBS), #try deeper trees\n",
    "              #RandomForestClassifier(n_estimators=1000, max_depth=6, n_jobs=N_JOBS),\n",
    "              #RandomForestClassifier(n_estimators=1500, max_depth=6, n_jobs=N_JOBS),\n",
    "        \n",
    "              #CatBoostClassifier(iterations = 500, task_type = 'GPU' if GPU else 'CPU'),\n",
    "              CatBoostClassifier(iterations = 1000, task_type = 'GPU' if GPU else 'CPU', silent = True, random_state=32),\n",
    "              #CatBoostClassifier(iterations = 1500, task_type = 'GPU' if GPU else 'CPU'),\n",
    "              #CatBoostClassifier(iterations = 2000, task_type = 'GPU' if GPU else 'CPU'),\n",
    "             \n",
    "             \n",
    "             ]\n",
    "    \n",
    "    exp_name_base = f'feats_sel_top{max_n_features}'\n",
    "    #folder to store artifacts\n",
    "    #folder to store artifacts\n",
    "    if not os.path.isdir(MODELS_PATH + exp_name_base):\n",
    "        os.mkdir(MODELS_PATH + exp_name_base)\n",
    "    \n",
    "    for model in models:\n",
    "    \n",
    "        model.fit(encoded_train_df[feat_names], encoded_train_df[TARGET_NAME])\n",
    "    \n",
    "        metrics = evaluate_model(model.predict(encoded_val_df[feat_names]), encoded_val_df[TARGET_NAME])\n",
    "        model_name = get_model_string(model)\n",
    "        \n",
    "        log_model(exp_name_base, model_name,\n",
    "                 MODELS_PATH + MODELS_LOG_FNAME,\n",
    "                 metrics)\n",
    "    \n",
    "        save_model_pickle(model, MODELS_PATH + f'{exp_name_base}/' + model_name[:150] + '.pkl')\n",
    "        print(model_name)\n",
    "        print(metrics)\n",
    "        print()\n",
    "\n",
    "\n",
    "    print('-'*50, encoded_val_df[feat_names].shape)\n"
   ]
  },
  {
   "cell_type": "code",
   "execution_count": null,
   "id": "b8cf8498-817d-4143-b612-ff018faf22bc",
   "metadata": {},
   "outputs": [],
   "source": []
  },
  {
   "cell_type": "code",
   "execution_count": null,
   "id": "eda47a7f-500c-4423-9ee1-f13f1e9208c7",
   "metadata": {},
   "outputs": [],
   "source": []
  }
 ],
 "metadata": {
  "kernelspec": {
   "display_name": "Python 3 (ipykernel)",
   "language": "python",
   "name": "python3"
  },
  "language_info": {
   "codemirror_mode": {
    "name": "ipython",
    "version": 3
   },
   "file_extension": ".py",
   "mimetype": "text/x-python",
   "name": "python",
   "nbconvert_exporter": "python",
   "pygments_lexer": "ipython3",
   "version": "3.10.12"
  }
 },
 "nbformat": 4,
 "nbformat_minor": 5
}
