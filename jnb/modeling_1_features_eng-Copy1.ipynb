{
 "cells": [
  {
   "cell_type": "code",
   "execution_count": 8,
   "id": "ff03fdcf-4535-4d49-af58-5a4f3c0220bf",
   "metadata": {},
   "outputs": [],
   "source": [
    "from sklearn.linear_model import LogisticRegression\n",
    "from sklearn.tree import DecisionTreeClassifier\n",
    "from sklearn.ensemble import RandomForestClassifier\n",
    "from catboost import CatBoostClassifier\n",
    "from sklearn.model_selection import train_test_split\n",
    "from sklearn.metrics import classification_report\n",
    "from matplotlib import pyplot as plt\n",
    "\n",
    "import pandas as pd\n",
    "import os\n",
    "import sys\n",
    "import warnings\n",
    "warnings.filterwarnings('ignore')\n",
    "\n",
    "if not os.path.abspath(os.pardir) in sys.path:\n",
    "    sys.path.append(os.path.abspath(os.pardir))\n",
    "\n",
    "from src.data_reader import read_data\n",
    "from src.features_processor import FeaturesProcessor\n",
    "from src.ml_experiments import *"
   ]
  },
  {
   "cell_type": "code",
   "execution_count": 2,
   "id": "0f89c52e-f7d5-4cc8-bcc3-53bbf087fb2b",
   "metadata": {},
   "outputs": [],
   "source": [
    "DATA_PATH = '../data/'\n",
    "MODELS_PATH = '../models/'\n",
    "\n",
    "TRAIN_FNAME = 'census_income_learn.csv'\n",
    "TEST_FNAME = 'census_income_test.csv'\n",
    "METADATA_FNAME = 'census_income_metadata.txt'\n",
    "MODELS_LOG_FNAME = 'experiments_log.csv'\n",
    "\n",
    "COLORS = ['#4DC9C3', '#221C35', '#FCCD20', '#20C3EF', '#00B257', '#FF7700']\n",
    "\n",
    "TARGET_NAME = 'income'\n",
    "IGNORE_FEATURES = ['instance_weight']\n",
    "\n",
    "\n",
    "N_JOBS = 6\n",
    "GPU = True"
   ]
  },
  {
   "cell_type": "code",
   "execution_count": 3,
   "id": "3c902027-710b-416f-83c4-fc7ab5edb4ae",
   "metadata": {
    "scrolled": true
   },
   "outputs": [
    {
     "name": "stdout",
     "output_type": "stream",
     "text": [
      "Read input data file ../data/census_income_learn.csv\n",
      "Read metadata file ../data/census_income_metadata.txt\n",
      "Couldnt parse line \n",
      "Mapped columns\n",
      "Read input data file ../data/census_income_test.csv\n",
      "Read metadata file ../data/census_income_metadata.txt\n",
      "Couldnt parse line \n",
      "Mapped columns\n"
     ]
    },
    {
     "data": {
      "text/plain": [
       "((99762, 41), (199523, 41))"
      ]
     },
     "execution_count": 3,
     "metadata": {},
     "output_type": "execute_result"
    }
   ],
   "source": [
    "train_df = read_data(DATA_PATH + TRAIN_FNAME, DATA_PATH + METADATA_FNAME, drop_cols = IGNORE_FEATURES)\n",
    "test_df = read_data(DATA_PATH + TEST_FNAME, DATA_PATH + METADATA_FNAME, drop_cols = IGNORE_FEATURES)\n",
    "\n",
    "test_df.shape, train_df.shape"
   ]
  },
  {
   "cell_type": "code",
   "execution_count": 4,
   "id": "72024584-9085-4407-8b67-cb8ac1e475b8",
   "metadata": {},
   "outputs": [
    {
     "name": "stdout",
     "output_type": "stream",
     "text": [
      "Encoders not found, creating new encoders\n",
      "Encoders were found, using existing encoders\n"
     ]
    },
    {
     "data": {
      "text/plain": [
       "((179570, 424), (19953, 424), (99762, 424))"
      ]
     },
     "execution_count": 4,
     "metadata": {},
     "output_type": "execute_result"
    }
   ],
   "source": [
    "fprocessor = FeaturesProcessor('OHE')\n",
    "\n",
    "encoded_train_df, encoders = fprocessor.transform_features(train_df, make_calculated = True)\n",
    "encoded_test_df, encoders = fprocessor.transform_features(test_df, make_calculated = True)\n",
    "\n",
    "encoded_train_df, encoded_val_df = train_test_split(encoded_train_df, test_size=0.1, random_state=32)\n",
    "\n",
    "\n",
    "encoded_train_df.shape, encoded_val_df.shape, encoded_test_df.shape"
   ]
  },
  {
   "cell_type": "markdown",
   "id": "c7c93b9c-872e-49aa-8819-4dc9b0bfb00f",
   "metadata": {},
   "source": [
    "### First try models with new calculated  features"
   ]
  },
  {
   "cell_type": "code",
   "execution_count": 5,
   "id": "1f99cf34-54e2-48b1-ba92-83acf2b30e6c",
   "metadata": {
    "scrolled": true
   },
   "outputs": [
    {
     "name": "stderr",
     "output_type": "stream",
     "text": [
      "/home/francesco/.local/lib/python3.10/site-packages/sklearn/linear_model/_logistic.py:465: ConvergenceWarning: lbfgs failed to converge (status=1):\n",
      "STOP: TOTAL NO. of ITERATIONS REACHED LIMIT.\n",
      "\n",
      "Increase the number of iterations (max_iter) or scale the data as shown in:\n",
      "    https://scikit-learn.org/stable/modules/preprocessing.html\n",
      "Please also refer to the documentation for alternative solver options:\n",
      "    https://scikit-learn.org/stable/modules/linear_model.html#logistic-regression\n",
      "  n_iter_i = _check_optimize_result(\n"
     ]
    },
    {
     "name": "stdout",
     "output_type": "stream",
     "text": [
      "LogisticRegression(C=0.1,class_weight=balanced,dual=False,fit_intercept=True,intercept_scaling=1,l1_ratio=None,max_iter=1000,multi_class=deprecated,n_jobs=6,penalty=l2,random_state=32,solver=lbfgs,tol=0.0001,verbose=0,warm_start=False)\n",
      "[0.3374588751370829, 0.8629807692307693, 0.20973709834469328, '[[14647   171]\\n [ 4058  1077]]']\n",
      "\n",
      "DecisionTreeClassifier(ccp_alpha=0.0,class_weight=balanced,criterion=gini,max_depth=13,max_features=None,max_leaf_nodes=None,min_impurity_decrease=0.0,min_samples_leaf=1,min_samples_split=2,min_weight_fraction_leaf=0.0,monotonic_cst=None,random_state=32,splitter=best)\n",
      "[0.43159843653569224, 0.8405448717948718, 0.2903404373097149, '[[16141   199]\\n [ 2564  1049]]']\n",
      "\n",
      "RandomForestClassifier(bootstrap=True,ccp_alpha=0.0,class_weight=None,criterion=gini,max_depth=3,max_features=0.3,max_leaf_nodes=None,max_samples=None,min_impurity_decrease=0.0,min_samples_leaf=1,min_samples_split=2,min_weight_fraction_leaf=0.0,monotonic_cst=None,n_estimators=1500,n_jobs=6,oob_score=False,random_state=32,verbose=0,warm_start=False)\n",
      "[0.24436860068259386, 0.14342948717948717, 0.8248847926267281, '[[18667  1069]\\n [   38   179]]']\n",
      "\n",
      "CatBoostClassifier(iterations=1000,silent=True,task_type=GPU,random_state=32)\n",
      "[0.5775136206042595, 0.4671474358974359, 0.7561608300907912, '[[18517   665]\\n [  188   583]]']\n",
      "\n"
     ]
    }
   ],
   "source": [
    "# feature names\n",
    "feat_names = [col for col in encoded_train_df.columns if (col != TARGET_NAME)]\n",
    "\n",
    "\n",
    "# given previous experiment only keep best version of each model\n",
    "\n",
    "models = [ #LogisticRegression(C=1.0, class_weight='balanced', max_iter=200, n_jobs = N_JOBS), #strong regularization, class balancing\n",
    "          #LogisticRegression(C=1.0, class_weight='balanced', max_iter=500, n_jobs = N_JOBS), \n",
    "          #LogisticRegression(C=1.0, class_weight='balanced', max_iter=1000, n_jobs = N_JOBS), \n",
    "          #LogisticRegression(C=0.1, class_weight='balanced', max_iter=200, n_jobs = N_JOBS), #weak regularization, class balancing\n",
    "          #LogisticRegression(C=0.1, class_weight='balanced', max_iter=500, n_jobs = N_JOBS), \n",
    "          LogisticRegression(C=0.1, class_weight='balanced', max_iter=1000, n_jobs = N_JOBS, random_state=32), \n",
    "\n",
    "          #DecisionTreeClassifier(max_depth=4, class_weight='balanced'),\n",
    "          #DecisionTreeClassifier(max_depth=7, class_weight='balanced'),\n",
    "          #DecisionTreeClassifier(max_depth=10, class_weight='balanced'),\n",
    "          DecisionTreeClassifier(max_depth=13, class_weight='balanced', random_state=32),\n",
    "\n",
    "          #RandomForestClassifier(n_estimators=500, max_depth=3, max_features=0.3, n_jobs=N_JOBS), #try not very deep trees\n",
    "          #RandomForestClassifier(n_estimators=1000, max_depth=3, max_features=0.3, n_jobs=N_JOBS),\n",
    "          RandomForestClassifier(n_estimators=1500, max_depth=3, max_features=0.3, n_jobs=N_JOBS, random_state=32),\n",
    "          #RandomForestClassifier(n_estimators=500, max_depth=6, n_jobs=N_JOBS), #try deeper trees\n",
    "          #RandomForestClassifier(n_estimators=1000, max_depth=6, n_jobs=N_JOBS),\n",
    "          #RandomForestClassifier(n_estimators=1500, max_depth=6, n_jobs=N_JOBS),\n",
    "    \n",
    "          #CatBoostClassifier(iterations = 500, task_type = 'GPU' if GPU else 'CPU'),\n",
    "          CatBoostClassifier(iterations = 1000, task_type = 'GPU' if GPU else 'CPU', silent = True, random_state=32),\n",
    "          #CatBoostClassifier(iterations = 1500, task_type = 'GPU' if GPU else 'CPU'),\n",
    "          #CatBoostClassifier(iterations = 2000, task_type = 'GPU' if GPU else 'CPU'),\n",
    "         \n",
    "         \n",
    "         ]\n",
    "\n",
    "exp_name_base = 'feats_eng_{}'\n",
    "#folder to store artifacts\n",
    "if not os.path.isdir(MODELS_PATH + exp_name_base[:-3]):\n",
    "    os.mkdir(MODELS_PATH + exp_name_base[:-3])\n",
    "\n",
    "for model in models:\n",
    "\n",
    "    model.fit(encoded_train_df[feat_names], encoded_train_df[TARGET_NAME])\n",
    "\n",
    "    metrics = evaluate_model(model.predict(encoded_val_df[feat_names]), encoded_val_df[TARGET_NAME])\n",
    "    model_name = get_model_string(model)\n",
    "    \n",
    "    log_model(exp_name_base.format(model_name),\n",
    "             MODELS_PATH + MODELS_LOG_FNAME,\n",
    "             metrics)\n",
    "\n",
    "    save_model_pickle(model, MODELS_PATH + f'{exp_name_base[:-3]}/' + model_name[:100] + '.pkl')\n",
    "\n",
    "    print(model_name)\n",
    "    print(metrics)\n",
    "    print()\n"
   ]
  },
  {
   "cell_type": "code",
   "execution_count": 6,
   "id": "390cd263-2a08-4d67-b363-06fcafbc8eea",
   "metadata": {},
   "outputs": [
    {
     "name": "stdout",
     "output_type": "stream",
     "text": [
      "              precision    recall  f1-score   support\n",
      "\n",
      "           0       0.99      0.96      0.98     96138\n",
      "           1       0.45      0.77      0.57      3624\n",
      "\n",
      "    accuracy                           0.96     99762\n",
      "   macro avg       0.72      0.87      0.77     99762\n",
      "weighted avg       0.97      0.96      0.96     99762\n",
      "\n"
     ]
    }
   ],
   "source": [
    "print(classification_report(model.predict(encoded_test_df[feat_names]), encoded_test_df[TARGET_NAME]))"
   ]
  },
  {
   "cell_type": "code",
   "execution_count": 9,
   "id": "40c4576e-32fd-4b1e-901a-069ef9637f4f",
   "metadata": {},
   "outputs": [
    {
     "data": {
      "image/png": "[encoded data removed]",
      "text/plain": [
       "<Figure size 1152x720 with 1 Axes>"
      ]
     },
     "metadata": {
      "needs_background": "light"
     },
     "output_type": "display_data"
    }
   ],
   "source": [
    "PLOT_MAX = 20\n",
    "importances = sorted([(name,imp/max(model.feature_importances_)) for name, imp in zip(feat_names, model.feature_importances_)], \n",
    "                     key = lambda x:-x[1])[:PLOT_MAX]\n",
    "\n",
    "plt.figure(figsize=(16, 10))\n",
    "plt.bar([e[0] for e in importances], [e[1] for e in importances], color = COLORS[0])\n",
    "plt.title('Feature Importances')\n",
    "plt.xticks(rotation = 90)\n",
    "plt.show()"
   ]
  },
  {
   "cell_type": "markdown",
   "id": "dc095f5b-4f05-4ba3-89bf-41d53d9d19a0",
   "metadata": {},
   "source": [
    "### Then we can Check if Features Selection brings any benefits"
   ]
  },
  {
   "cell_type": "code",
   "execution_count": 10,
   "id": "030000fb-f81a-4402-974c-d8b8db675a95",
   "metadata": {
    "scrolled": true
   },
   "outputs": [
    {
     "name": "stderr",
     "output_type": "stream",
     "text": [
      "/home/francesco/.local/lib/python3.10/site-packages/sklearn/linear_model/_logistic.py:465: ConvergenceWarning: lbfgs failed to converge (status=1):\n",
      "STOP: TOTAL NO. of ITERATIONS REACHED LIMIT.\n",
      "\n",
      "Increase the number of iterations (max_iter) or scale the data as shown in:\n",
      "    https://scikit-learn.org/stable/modules/preprocessing.html\n",
      "Please also refer to the documentation for alternative solver options:\n",
      "    https://scikit-learn.org/stable/modules/linear_model.html#logistic-regression\n",
      "  n_iter_i = _check_optimize_result(\n"
     ]
    },
    {
     "name": "stdout",
     "output_type": "stream",
     "text": [
      "LogisticRegression(C=0.1,class_weight=balanced,dual=False,fit_intercept=True,intercept_scaling=1,l1_ratio=None,max_iter=1000,multi_class=deprecated,n_jobs=6,penalty=l2,random_state=32,solver=lbfgs,tol=0.0001,verbose=0,warm_start=False)\n",
      "[0.33220547523838817, 0.8653846153846154, 0.20555767034640274, '[[14531   168]\\n [ 4174  1080]]']\n",
      "\n",
      "DecisionTreeClassifier(ccp_alpha=0.0,class_weight=balanced,criterion=gini,max_depth=13,max_features=None,max_leaf_nodes=None,min_impurity_decrease=0.0,min_samples_leaf=1,min_samples_split=2,min_weight_fraction_leaf=0.0,monotonic_cst=None,random_state=32,splitter=best)\n",
      "[0.42699836867862967, 0.8389423076923077, 0.2863785557986871, '[[16096   201]\\n [ 2609  1047]]']\n",
      "\n",
      "RandomForestClassifier(bootstrap=True,ccp_alpha=0.0,class_weight=None,criterion=gini,max_depth=3,max_features=0.3,max_leaf_nodes=None,max_samples=None,min_impurity_decrease=0.0,min_samples_leaf=1,min_samples_split=2,min_weight_fraction_leaf=0.0,monotonic_cst=None,n_estimators=1500,n_jobs=6,oob_score=False,random_state=32,verbose=0,warm_start=False)\n",
      "[0.24436860068259386, 0.14342948717948717, 0.8248847926267281, '[[18667  1069]\\n [   38   179]]']\n",
      "\n",
      "CatBoostClassifier(iterations=1000,silent=True,task_type=GPU,random_state=32)\n",
      "[0.5748031496062992, 0.46794871794871795, 0.7448979591836735, '[[18505   664]\\n [  200   584]]']\n",
      "\n",
      "-------------------------------------------------- (19953, 300)\n"
     ]
    },
    {
     "name": "stderr",
     "output_type": "stream",
     "text": [
      "/home/francesco/.local/lib/python3.10/site-packages/sklearn/linear_model/_logistic.py:465: ConvergenceWarning: lbfgs failed to converge (status=1):\n",
      "STOP: TOTAL NO. of ITERATIONS REACHED LIMIT.\n",
      "\n",
      "Increase the number of iterations (max_iter) or scale the data as shown in:\n",
      "    https://scikit-learn.org/stable/modules/preprocessing.html\n",
      "Please also refer to the documentation for alternative solver options:\n",
      "    https://scikit-learn.org/stable/modules/linear_model.html#logistic-regression\n",
      "  n_iter_i = _check_optimize_result(\n"
     ]
    },
    {
     "name": "stdout",
     "output_type": "stream",
     "text": [
      "LogisticRegression(C=0.1,class_weight=balanced,dual=False,fit_intercept=True,intercept_scaling=1,l1_ratio=None,max_iter=1000,multi_class=deprecated,n_jobs=6,penalty=l2,random_state=32,solver=lbfgs,tol=0.0001,verbose=0,warm_start=False)\n",
      "[0.338908172925213, 0.8605769230769231, 0.21100196463654225, '[[14689   174]\\n [ 4016  1074]]']\n",
      "\n",
      "DecisionTreeClassifier(ccp_alpha=0.0,class_weight=balanced,criterion=gini,max_depth=13,max_features=None,max_leaf_nodes=None,min_impurity_decrease=0.0,min_samples_leaf=1,min_samples_split=2,min_weight_fraction_leaf=0.0,monotonic_cst=None,random_state=32,splitter=best)\n",
      "[0.42552326762853077, 0.8389423076923077, 0.28505309011707053, '[[16079   201]\\n [ 2626  1047]]']\n",
      "\n",
      "RandomForestClassifier(bootstrap=True,ccp_alpha=0.0,class_weight=None,criterion=gini,max_depth=3,max_features=0.3,max_leaf_nodes=None,max_samples=None,min_impurity_decrease=0.0,min_samples_leaf=1,min_samples_split=2,min_weight_fraction_leaf=0.0,monotonic_cst=None,n_estimators=1500,n_jobs=6,oob_score=False,random_state=32,verbose=0,warm_start=False)\n",
      "[0.23050379572118704, 0.13381410256410256, 0.8308457711442786, '[[18671  1081]\\n [   34   167]]']\n",
      "\n",
      "CatBoostClassifier(iterations=1000,silent=True,task_type=GPU,random_state=32)\n",
      "[0.5742871435717859, 0.4599358974358974, 0.7643142476697736, '[[18528   674]\\n [  177   574]]']\n",
      "\n",
      "-------------------------------------------------- (19953, 200)\n"
     ]
    },
    {
     "name": "stderr",
     "output_type": "stream",
     "text": [
      "/home/francesco/.local/lib/python3.10/site-packages/sklearn/linear_model/_logistic.py:465: ConvergenceWarning: lbfgs failed to converge (status=1):\n",
      "STOP: TOTAL NO. of ITERATIONS REACHED LIMIT.\n",
      "\n",
      "Increase the number of iterations (max_iter) or scale the data as shown in:\n",
      "    https://scikit-learn.org/stable/modules/preprocessing.html\n",
      "Please also refer to the documentation for alternative solver options:\n",
      "    https://scikit-learn.org/stable/modules/linear_model.html#logistic-regression\n",
      "  n_iter_i = _check_optimize_result(\n"
     ]
    },
    {
     "name": "stdout",
     "output_type": "stream",
     "text": [
      "LogisticRegression(C=0.1,class_weight=balanced,dual=False,fit_intercept=True,intercept_scaling=1,l1_ratio=None,max_iter=1000,multi_class=deprecated,n_jobs=6,penalty=l2,random_state=32,solver=lbfgs,tol=0.0001,verbose=0,warm_start=False)\n",
      "[0.38774413187600787, 0.8669871794871795, 0.24971151627048235, '[[15454   166]\\n [ 3251  1082]]']\n",
      "\n",
      "DecisionTreeClassifier(ccp_alpha=0.0,class_weight=balanced,criterion=gini,max_depth=13,max_features=None,max_leaf_nodes=None,min_impurity_decrease=0.0,min_samples_leaf=1,min_samples_split=2,min_weight_fraction_leaf=0.0,monotonic_cst=None,random_state=32,splitter=best)\n",
      "[0.3936543073233721, 0.8549679487179487, 0.2556913491492931, '[[15599   181]\\n [ 3106  1067]]']\n",
      "\n",
      "RandomForestClassifier(bootstrap=True,ccp_alpha=0.0,class_weight=None,criterion=gini,max_depth=3,max_features=0.3,max_leaf_nodes=None,max_samples=None,min_impurity_decrease=0.0,min_samples_leaf=1,min_samples_split=2,min_weight_fraction_leaf=0.0,monotonic_cst=None,n_estimators=1500,n_jobs=6,oob_score=False,random_state=32,verbose=0,warm_start=False)\n",
      "[0.24104683195592286, 0.14022435897435898, 0.8578431372549019, '[[18676  1073]\\n [   29   175]]']\n",
      "\n",
      "CatBoostClassifier(iterations=1000,silent=True,task_type=GPU,random_state=32)\n",
      "[0.54323499491353, 0.42788461538461536, 0.7437325905292479, '[[18521   714]\\n [  184   534]]']\n",
      "\n",
      "-------------------------------------------------- (19953, 100)\n"
     ]
    },
    {
     "name": "stderr",
     "output_type": "stream",
     "text": [
      "/home/francesco/.local/lib/python3.10/site-packages/sklearn/linear_model/_logistic.py:465: ConvergenceWarning: lbfgs failed to converge (status=1):\n",
      "STOP: TOTAL NO. of ITERATIONS REACHED LIMIT.\n",
      "\n",
      "Increase the number of iterations (max_iter) or scale the data as shown in:\n",
      "    https://scikit-learn.org/stable/modules/preprocessing.html\n",
      "Please also refer to the documentation for alternative solver options:\n",
      "    https://scikit-learn.org/stable/modules/linear_model.html#logistic-regression\n",
      "  n_iter_i = _check_optimize_result(\n"
     ]
    },
    {
     "name": "stdout",
     "output_type": "stream",
     "text": [
      "LogisticRegression(C=0.1,class_weight=balanced,dual=False,fit_intercept=True,intercept_scaling=1,l1_ratio=None,max_iter=1000,multi_class=deprecated,n_jobs=6,penalty=l2,random_state=32,solver=lbfgs,tol=0.0001,verbose=0,warm_start=False)\n",
      "[0.3292079207920792, 0.8525641025641025, 0.20398773006134968, '[[14553   184]\\n [ 4152  1064]]']\n",
      "\n",
      "DecisionTreeClassifier(ccp_alpha=0.0,class_weight=balanced,criterion=gini,max_depth=13,max_features=None,max_leaf_nodes=None,min_impurity_decrease=0.0,min_samples_leaf=1,min_samples_split=2,min_weight_fraction_leaf=0.0,monotonic_cst=None,random_state=32,splitter=best)\n",
      "[0.3422016887047953, 0.8605769230769231, 0.213561344203619, '[[14750   174]\\n [ 3955  1074]]']\n",
      "\n",
      "RandomForestClassifier(bootstrap=True,ccp_alpha=0.0,class_weight=None,criterion=gini,max_depth=3,max_features=0.3,max_leaf_nodes=None,max_samples=None,min_impurity_decrease=0.0,min_samples_leaf=1,min_samples_split=2,min_weight_fraction_leaf=0.0,monotonic_cst=None,n_estimators=1500,n_jobs=6,oob_score=False,random_state=32,verbose=0,warm_start=False)\n",
      "[0.0, 0.0, 0.0, '[[18705  1248]\\n [    0     0]]']\n",
      "\n",
      "CatBoostClassifier(iterations=1000,silent=True,task_type=GPU,random_state=32)\n",
      "[0.3078817733990148, 0.20032051282051283, 0.6648936170212766, '[[18579   998]\\n [  126   250]]']\n",
      "\n",
      "-------------------------------------------------- (19953, 60)\n",
      "LogisticRegression(C=0.1,class_weight=balanced,dual=False,fit_intercept=True,intercept_scaling=1,l1_ratio=None,max_iter=1000,multi_class=deprecated,n_jobs=6,penalty=l2,random_state=32,solver=lbfgs,tol=0.0001,verbose=0,warm_start=False)\n",
      "[0.2843519722583442, 0.7884615384615384, 0.17345319936541512, '[[14016   264]\\n [ 4689   984]]']\n",
      "\n",
      "DecisionTreeClassifier(ccp_alpha=0.0,class_weight=balanced,criterion=gini,max_depth=13,max_features=None,max_leaf_nodes=None,min_impurity_decrease=0.0,min_samples_leaf=1,min_samples_split=2,min_weight_fraction_leaf=0.0,monotonic_cst=None,random_state=32,splitter=best)\n",
      "[0.31757972199509404, 0.7780448717948718, 0.1995068830901993, '[[14809   277]\\n [ 3896   971]]']\n",
      "\n",
      "RandomForestClassifier(bootstrap=True,ccp_alpha=0.0,class_weight=None,criterion=gini,max_depth=3,max_features=0.3,max_leaf_nodes=None,max_samples=None,min_impurity_decrease=0.0,min_samples_leaf=1,min_samples_split=2,min_weight_fraction_leaf=0.0,monotonic_cst=None,n_estimators=1500,n_jobs=6,oob_score=False,random_state=32,verbose=0,warm_start=False)\n",
      "[0.0, 0.0, 0.0, '[[18705  1248]\\n [    0     0]]']\n",
      "\n",
      "CatBoostClassifier(iterations=1000,silent=True,task_type=GPU,random_state=32)\n",
      "[0.07834441980783444, 0.04246794871794872, 0.5047619047619047, '[[18653  1195]\\n [   52    53]]']\n",
      "\n",
      "-------------------------------------------------- (19953, 30)\n",
      "LogisticRegression(C=0.1,class_weight=balanced,dual=False,fit_intercept=True,intercept_scaling=1,l1_ratio=None,max_iter=1000,multi_class=deprecated,n_jobs=6,penalty=l2,random_state=32,solver=lbfgs,tol=0.0001,verbose=0,warm_start=False)\n",
      "[0.2571756601607348, 0.8076923076923077, 0.15293582157487484, '[[13122   240]\\n [ 5583  1008]]']\n",
      "\n",
      "DecisionTreeClassifier(ccp_alpha=0.0,class_weight=balanced,criterion=gini,max_depth=13,max_features=None,max_leaf_nodes=None,min_impurity_decrease=0.0,min_samples_leaf=1,min_samples_split=2,min_weight_fraction_leaf=0.0,monotonic_cst=None,random_state=32,splitter=best)\n",
      "[0.28105906313645623, 0.8293269230769231, 0.16920058852378617, '[[13623   213]\\n [ 5082  1035]]']\n",
      "\n",
      "RandomForestClassifier(bootstrap=True,ccp_alpha=0.0,class_weight=None,criterion=gini,max_depth=3,max_features=0.3,max_leaf_nodes=None,max_samples=None,min_impurity_decrease=0.0,min_samples_leaf=1,min_samples_split=2,min_weight_fraction_leaf=0.0,monotonic_cst=None,n_estimators=1500,n_jobs=6,oob_score=False,random_state=32,verbose=0,warm_start=False)\n",
      "[0.0, 0.0, 0.0, '[[18705  1248]\\n [    0     0]]']\n",
      "\n",
      "CatBoostClassifier(iterations=1000,silent=True,task_type=GPU,random_state=32)\n",
      "[0.0, 0.0, 0.0, '[[18703  1248]\\n [    2     0]]']\n",
      "\n",
      "-------------------------------------------------- (19953, 20)\n",
      "LogisticRegression(C=0.1,class_weight=balanced,dual=False,fit_intercept=True,intercept_scaling=1,l1_ratio=None,max_iter=1000,multi_class=deprecated,n_jobs=6,penalty=l2,random_state=32,solver=lbfgs,tol=0.0001,verbose=0,warm_start=False)\n",
      "[0.20981539846915803, 0.7467948717948718, 0.12205343111576741, '[[12001   316]\\n [ 6704   932]]']\n",
      "\n",
      "DecisionTreeClassifier(ccp_alpha=0.0,class_weight=balanced,criterion=gini,max_depth=13,max_features=None,max_leaf_nodes=None,min_impurity_decrease=0.0,min_samples_leaf=1,min_samples_split=2,min_weight_fraction_leaf=0.0,monotonic_cst=None,random_state=32,splitter=best)\n",
      "[0.2385609893198426, 0.8501602564102564, 0.13874722113247026, '[[12119   187]\\n [ 6586  1061]]']\n",
      "\n",
      "RandomForestClassifier(bootstrap=True,ccp_alpha=0.0,class_weight=None,criterion=gini,max_depth=3,max_features=0.3,max_leaf_nodes=None,max_samples=None,min_impurity_decrease=0.0,min_samples_leaf=1,min_samples_split=2,min_weight_fraction_leaf=0.0,monotonic_cst=None,n_estimators=1500,n_jobs=6,oob_score=False,random_state=32,verbose=0,warm_start=False)\n",
      "[0.0, 0.0, 0.0, '[[18705  1248]\\n [    0     0]]']\n",
      "\n",
      "CatBoostClassifier(iterations=1000,silent=True,task_type=GPU,random_state=32)\n",
      "[0.0, 0.0, 0.0, '[[18705  1248]\\n [    0     0]]']\n",
      "\n",
      "-------------------------------------------------- (19953, 10)\n"
     ]
    }
   ],
   "source": [
    "best_model = model\n",
    "\n",
    "for max_n_features in reversed([10, 20, 30, 60, 100, 200, 300]):\n",
    "    \n",
    "    importances = sorted([(name,imp/max(best_model.feature_importances_)) for name, imp in zip(feat_names, best_model.feature_importances_)], \n",
    "                         key = lambda x:-x[1])[:max_n_features]\n",
    "    \n",
    "    importances = set([i[0] for i in importances])\n",
    "    \n",
    "    # feature names\n",
    "    feat_names = [col for col in encoded_train_df.columns if ((col != TARGET_NAME) and (col in importances))]\n",
    "    \n",
    "    \n",
    "    # given previous experiment only keep best version of each model\n",
    "    \n",
    "    models = [ #LogisticRegression(C=1.0, class_weight='balanced', max_iter=200, n_jobs = N_JOBS), #strong regularization, class balancing\n",
    "              #LogisticRegression(C=1.0, class_weight='balanced', max_iter=500, n_jobs = N_JOBS), \n",
    "              #LogisticRegression(C=1.0, class_weight='balanced', max_iter=1000, n_jobs = N_JOBS), \n",
    "              #LogisticRegression(C=0.1, class_weight='balanced', max_iter=200, n_jobs = N_JOBS), #weak regularization, class balancing\n",
    "              #LogisticRegression(C=0.1, class_weight='balanced', max_iter=500, n_jobs = N_JOBS), \n",
    "              LogisticRegression(C=0.1, class_weight='balanced', max_iter=1000, n_jobs = N_JOBS, random_state=32), \n",
    "    \n",
    "              #DecisionTreeClassifier(max_depth=4, class_weight='balanced'),\n",
    "              #DecisionTreeClassifier(max_depth=7, class_weight='balanced'),\n",
    "              #DecisionTreeClassifier(max_depth=10, class_weight='balanced'),\n",
    "              DecisionTreeClassifier(max_depth=13, class_weight='balanced', random_state=32),\n",
    "    \n",
    "              #RandomForestClassifier(n_estimators=500, max_depth=3, max_features=0.3, n_jobs=N_JOBS), #try not very deep trees\n",
    "              #RandomForestClassifier(n_estimators=1000, max_depth=3, max_features=0.3, n_jobs=N_JOBS),\n",
    "              RandomForestClassifier(n_estimators=1500, max_depth=3, max_features=0.3, n_jobs=N_JOBS, random_state=32),\n",
    "              #RandomForestClassifier(n_estimators=500, max_depth=6, n_jobs=N_JOBS), #try deeper trees\n",
    "              #RandomForestClassifier(n_estimators=1000, max_depth=6, n_jobs=N_JOBS),\n",
    "              #RandomForestClassifier(n_estimators=1500, max_depth=6, n_jobs=N_JOBS),\n",
    "        \n",
    "              #CatBoostClassifier(iterations = 500, task_type = 'GPU' if GPU else 'CPU'),\n",
    "              CatBoostClassifier(iterations = 1000, task_type = 'GPU' if GPU else 'CPU', silent = True, random_state=32),\n",
    "              #CatBoostClassifier(iterations = 1500, task_type = 'GPU' if GPU else 'CPU'),\n",
    "              #CatBoostClassifier(iterations = 2000, task_type = 'GPU' if GPU else 'CPU'),\n",
    "             \n",
    "             \n",
    "             ]\n",
    "    \n",
    "    exp_name_base = f'feats_sel_top{max_n_features}' + '_{}'\n",
    "    #folder to store artifacts\n",
    "    if not os.path.isdir(MODELS_PATH + exp_name_base[:-3]):\n",
    "        os.mkdir(MODELS_PATH + exp_name_base[:-3])\n",
    "\n",
    "    for model in models:\n",
    "    \n",
    "        model.fit(encoded_train_df[feat_names], encoded_train_df[TARGET_NAME])\n",
    "    \n",
    "        metrics = evaluate_model(model.predict(encoded_val_df[feat_names]), encoded_val_df[TARGET_NAME])\n",
    "        model_name = get_model_string(model)\n",
    "        \n",
    "        log_model(exp_name_base.format(model_name),\n",
    "                 MODELS_PATH + MODELS_LOG_FNAME,\n",
    "                 metrics)\n",
    "    \n",
    "        save_model_pickle(model, MODELS_PATH + f'{exp_name_base[:-3]}/' + model_name[:100] + '.pkl')\n",
    "    \n",
    "        print(model_name)\n",
    "        print(metrics)\n",
    "        print()\n",
    "\n",
    "    print('-'*50, encoded_val_df[feat_names].shape)\n"
   ]
  },
  {
   "cell_type": "code",
   "execution_count": null,
   "id": "b8cf8498-817d-4143-b612-ff018faf22bc",
   "metadata": {},
   "outputs": [],
   "source": []
  },
  {
   "cell_type": "code",
   "execution_count": null,
   "id": "eda47a7f-500c-4423-9ee1-f13f1e9208c7",
   "metadata": {},
   "outputs": [],
   "source": []
  }
 ],
 "metadata": {
  "kernelspec": {
   "display_name": "Python 3 (ipykernel)",
   "language": "python",
   "name": "python3"
  },
  "language_info": {
   "codemirror_mode": {
    "name": "ipython",
    "version": 3
   },
   "file_extension": ".py",
   "mimetype": "text/x-python",
   "name": "python",
   "nbconvert_exporter": "python",
   "pygments_lexer": "ipython3",
   "version": "3.10.12"
  }
 },
 "nbformat": 4,
 "nbformat_minor": 5
}
