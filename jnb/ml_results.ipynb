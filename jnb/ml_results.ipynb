{
 "cells": [
  {
   "cell_type": "code",
   "execution_count": 1,
   "id": "6a2e6ec0-e1bc-488e-a6ff-7eb311074035",
   "metadata": {},
   "outputs": [
    {
     "name": "stderr",
     "output_type": "stream",
     "text": [
      "/home/francesco/.local/lib/python3.10/site-packages/matplotlib/projections/__init__.py:63: UserWarning: Unable to import Axes3D. This may be due to multiple versions of Matplotlib being installed (e.g. as a system package and as a pip package). As a result, the 3D projection is not available.\n",
      "  warnings.warn(\"Unable to import Axes3D. This may be due to multiple versions of \"\n"
     ]
    }
   ],
   "source": [
    "import pandas as pd\n",
    "import numpy as np\n",
    "from matplotlib import pyplot as plt\n",
    "import os\n",
    "import sys\n",
    "import warnings\n",
    "warnings.filterwarnings('ignore')\n",
    "\n",
    "if not os.path.abspath(os.pardir) in sys.path:\n",
    "    sys.path.append(os.path.abspath(os.pardir))\n",
    "\n",
    "if not os.path.abspath(os.pardir+ '/src') in sys.path:\n",
    "    sys.path.append(os.path.abspath(os.pardir) + '/src')\n",
    "\n",
    "from data_reader import read_data\n",
    "from features_processor import FeaturesProcessor\n",
    "from ml_experiments import *\n",
    "from config import *"
   ]
  },
  {
   "cell_type": "markdown",
   "id": "278c5ceb-a918-4306-824e-c1b1542e610d",
   "metadata": {},
   "source": [
    "### Load Modeling Logs"
   ]
  },
  {
   "cell_type": "code",
   "execution_count": 2,
   "id": "006b524d-e7d4-4104-989f-8b1335be00ca",
   "metadata": {},
   "outputs": [
    {
     "data": {
      "text/html": [
       "<div>\n",
       "<style scoped>\n",
       "    .dataframe tbody tr th:only-of-type {\n",
       "        vertical-align: middle;\n",
       "    }\n",
       "\n",
       "    .dataframe tbody tr th {\n",
       "        vertical-align: top;\n",
       "    }\n",
       "\n",
       "    .dataframe thead th {\n",
       "        text-align: right;\n",
       "    }\n",
       "</style>\n",
       "<table border=\"1\" class=\"dataframe\">\n",
       "  <thead>\n",
       "    <tr style=\"text-align: right;\">\n",
       "      <th></th>\n",
       "      <th>experiment_name</th>\n",
       "      <th>model_name</th>\n",
       "      <th>f1_score</th>\n",
       "      <th>precision</th>\n",
       "      <th>recall</th>\n",
       "      <th>conf_matrix</th>\n",
       "    </tr>\n",
       "  </thead>\n",
       "  <tbody>\n",
       "    <tr>\n",
       "      <th>27</th>\n",
       "      <td>feats_sel_top300</td>\n",
       "      <td>CatBoostClassifier(iterations=1000,silent=True...</td>\n",
       "      <td>0.604897</td>\n",
       "      <td>0.504808</td>\n",
       "      <td>0.754491</td>\n",
       "      <td>[[18500   618]\\n [  205   630]]</td>\n",
       "    </tr>\n",
       "    <tr>\n",
       "      <th>23</th>\n",
       "      <td>feats_eng</td>\n",
       "      <td>CatBoostClassifier(iterations=1000,silent=True...</td>\n",
       "      <td>0.602991</td>\n",
       "      <td>0.500801</td>\n",
       "      <td>0.757576</td>\n",
       "      <td>[[18505   623]\\n [  200   625]]</td>\n",
       "    </tr>\n",
       "    <tr>\n",
       "      <th>18</th>\n",
       "      <td>baselines</td>\n",
       "      <td>CatBoostClassifier(iterations=1500,silent=True...</td>\n",
       "      <td>0.583376</td>\n",
       "      <td>0.468085</td>\n",
       "      <td>0.774019</td>\n",
       "      <td>[[18564   650]\\n [  167   572]]</td>\n",
       "    </tr>\n",
       "    <tr>\n",
       "      <th>16</th>\n",
       "      <td>baselines</td>\n",
       "      <td>CatBoostClassifier(iterations=500,silent=True,...</td>\n",
       "      <td>0.582822</td>\n",
       "      <td>0.466448</td>\n",
       "      <td>0.776567</td>\n",
       "      <td>[[18567   652]\\n [  164   570]]</td>\n",
       "    </tr>\n",
       "    <tr>\n",
       "      <th>19</th>\n",
       "      <td>baselines</td>\n",
       "      <td>CatBoostClassifier(iterations=2000,silent=True...</td>\n",
       "      <td>0.581800</td>\n",
       "      <td>0.465630</td>\n",
       "      <td>0.775204</td>\n",
       "      <td>[[18566   653]\\n [  165   569]]</td>\n",
       "    </tr>\n",
       "    <tr>\n",
       "      <th>17</th>\n",
       "      <td>baselines</td>\n",
       "      <td>CatBoostClassifier(iterations=1000,silent=True...</td>\n",
       "      <td>0.579028</td>\n",
       "      <td>0.463175</td>\n",
       "      <td>0.772169</td>\n",
       "      <td>[[18564   656]\\n [  167   566]]</td>\n",
       "    </tr>\n",
       "    <tr>\n",
       "      <th>31</th>\n",
       "      <td>feats_sel_top200</td>\n",
       "      <td>CatBoostClassifier(iterations=1000,silent=True...</td>\n",
       "      <td>0.555996</td>\n",
       "      <td>0.449519</td>\n",
       "      <td>0.728571</td>\n",
       "      <td>[[18496   687]\\n [  209   561]]</td>\n",
       "    </tr>\n",
       "    <tr>\n",
       "      <th>35</th>\n",
       "      <td>feats_sel_top100</td>\n",
       "      <td>CatBoostClassifier(iterations=1000,silent=True...</td>\n",
       "      <td>0.506955</td>\n",
       "      <td>0.394231</td>\n",
       "      <td>0.709957</td>\n",
       "      <td>[[18504   756]\\n [  201   492]]</td>\n",
       "    </tr>\n",
       "    <tr>\n",
       "      <th>39</th>\n",
       "      <td>feats_sel_top60</td>\n",
       "      <td>CatBoostClassifier(iterations=1000,silent=True...</td>\n",
       "      <td>0.435518</td>\n",
       "      <td>0.330128</td>\n",
       "      <td>0.639752</td>\n",
       "      <td>[[18473   836]\\n [  232   412]]</td>\n",
       "    </tr>\n",
       "    <tr>\n",
       "      <th>20</th>\n",
       "      <td>feats_eng</td>\n",
       "      <td>LogisticRegression(C=0.1,class_weight=balanced...</td>\n",
       "      <td>0.432958</td>\n",
       "      <td>0.892628</td>\n",
       "      <td>0.285788</td>\n",
       "      <td>[[15921   134]\\n [ 2784  1114]]</td>\n",
       "    </tr>\n",
       "  </tbody>\n",
       "</table>\n",
       "</div>"
      ],
      "text/plain": [
       "     experiment_name                                         model_name  \\\n",
       "27  feats_sel_top300  CatBoostClassifier(iterations=1000,silent=True...   \n",
       "23         feats_eng  CatBoostClassifier(iterations=1000,silent=True...   \n",
       "18         baselines  CatBoostClassifier(iterations=1500,silent=True...   \n",
       "16         baselines  CatBoostClassifier(iterations=500,silent=True,...   \n",
       "19         baselines  CatBoostClassifier(iterations=2000,silent=True...   \n",
       "17         baselines  CatBoostClassifier(iterations=1000,silent=True...   \n",
       "31  feats_sel_top200  CatBoostClassifier(iterations=1000,silent=True...   \n",
       "35  feats_sel_top100  CatBoostClassifier(iterations=1000,silent=True...   \n",
       "39   feats_sel_top60  CatBoostClassifier(iterations=1000,silent=True...   \n",
       "20         feats_eng  LogisticRegression(C=0.1,class_weight=balanced...   \n",
       "\n",
       "    f1_score  precision    recall                      conf_matrix  \n",
       "27  0.604897   0.504808  0.754491  [[18500   618]\\n [  205   630]]  \n",
       "23  0.602991   0.500801  0.757576  [[18505   623]\\n [  200   625]]  \n",
       "18  0.583376   0.468085  0.774019  [[18564   650]\\n [  167   572]]  \n",
       "16  0.582822   0.466448  0.776567  [[18567   652]\\n [  164   570]]  \n",
       "19  0.581800   0.465630  0.775204  [[18566   653]\\n [  165   569]]  \n",
       "17  0.579028   0.463175  0.772169  [[18564   656]\\n [  167   566]]  \n",
       "31  0.555996   0.449519  0.728571  [[18496   687]\\n [  209   561]]  \n",
       "35  0.506955   0.394231  0.709957  [[18504   756]\\n [  201   492]]  \n",
       "39  0.435518   0.330128  0.639752  [[18473   836]\\n [  232   412]]  \n",
       "20  0.432958   0.892628  0.285788  [[15921   134]\\n [ 2784  1114]]  "
      ]
     },
     "execution_count": 2,
     "metadata": {},
     "output_type": "execute_result"
    }
   ],
   "source": [
    "model_logs = pd.read_csv(MODELS_PATH + MODELS_LOG_FNAME )\n",
    "model_logs.sort_values('f1_score', ascending = False).head(10)"
   ]
  },
  {
   "cell_type": "markdown",
   "id": "4926288c-ccc2-4d52-a1f6-82b87fd0f0ee",
   "metadata": {},
   "source": [
    "### Check Baselines Performances (for model cards)"
   ]
  },
  {
   "cell_type": "code",
   "execution_count": 3,
   "id": "8e18fe51-ace1-4b9a-b398-fe503a1352cd",
   "metadata": {},
   "outputs": [
    {
     "name": "stdout",
     "output_type": "stream",
     "text": [
      "Model CatBoostClassifier\n",
      "F1 0.5833758286588475\n",
      "Precision 0.4680851063829787\n",
      "Recall 0.774018944519621\n",
      "[[0.93 0.03]\n",
      " [0.01 0.03]]\n",
      "\n",
      "Model LogisticRegression\n",
      "F1 0.4274240940254652\n",
      "Precision 0.8927986906710311\n",
      "Recall 0.2809683234612413\n",
      "[[0.8  0.01]\n",
      " [0.14 0.05]]\n",
      "\n",
      "Model DecisionTreeClassifier\n",
      "F1 0.413490321293155\n",
      "Precision 0.8477905073649754\n",
      "Recall 0.2734230667722354\n",
      "[[0.8  0.01]\n",
      " [0.14 0.05]]\n",
      "\n",
      "Model RandomForestClassifier\n",
      "F1 0.3348498635122839\n",
      "Precision 0.9034369885433716\n",
      "Recall 0.2055100521221146\n",
      "[[0.72 0.01]\n",
      " [0.21 0.06]]\n",
      "\n"
     ]
    }
   ],
   "source": [
    "# new column, model type\n",
    "model_logs['model_type'] = model_logs.model_name.apply(lambda x:x.split('(')[0])\n",
    "# filter for baselines experiment, only keep best model for each type based on F1 score\n",
    "bl_top = model_logs[model_logs.experiment_name == 'baselines'].sort_values('f1_score', ascending = False).drop_duplicates(subset = 'model_type')\n",
    "\n",
    "for idx, line in bl_top.iterrows():\n",
    "\n",
    "    print('Model', line.model_type)\n",
    "    print('F1', line.f1_score)\n",
    "    print('Precision', line.precision)\n",
    "    print('Recall', line.recall)\n",
    "    #print(line.to_dict())\n",
    "    cm = np.array(eval(line.conf_matrix.replace('[  ', '[').replace('  ', ',').replace('\\n', ',')))\n",
    "    sum = np.sum(cm)\n",
    "    print(np.round(cm/sum, 2))\n",
    "    print()"
   ]
  },
  {
   "cell_type": "markdown",
   "id": "623be6d2-ddc4-479e-9f1e-93acab422c88",
   "metadata": {},
   "source": [
    "### Check if features selection brings any benefits"
   ]
  },
  {
   "cell_type": "code",
   "execution_count": 4,
   "id": "4fb5c7fd-ad86-4559-9115-dd1630769a1c",
   "metadata": {},
   "outputs": [
    {
     "data": {
      "image/png": "[encoded data removed]",
      "text/plain": [
       "<Figure size 1152x720 with 1 Axes>"
      ]
     },
     "metadata": {
      "needs_background": "light"
     },
     "output_type": "display_data"
    }
   ],
   "source": [
    "df  = model_logs[model_logs.experiment_name.isin(['feats_sel_top300', 'feats_sel_top200', 'feats_sel_top100',\n",
    "                   'feats_sel_top60', 'feats_sel_top30', 'feats_sel_top20', 'feats_sel_top10', 'feats_eng'])][['model_name', 'experiment_name', 'f1_score']]\n",
    "\n",
    "plt.figure(figsize=(16, 10))\n",
    "i = 0\n",
    "for model, sdf in df.groupby('model_name'):\n",
    "\n",
    "    sdf['top'] = sdf.experiment_name.apply(lambda x:int(x.split('top')[1]) if ('top' in x) else (500))\n",
    "    sdf = sdf.sort_values(by = 'top')\n",
    "\n",
    "    plt.plot(sdf.experiment_name, sdf['f1_score'], label = model.split('(')[0], c = COLORS[i])\n",
    "    plt.legend()\n",
    "    plt.xticks(rotation = 90)\n",
    "    i += 1\n",
    "\n",
    "plt.ylabel('F1 Score')\n",
    "plt.title('Features Selection F1-Score')\n",
    "plt.show()"
   ]
  },
  {
   "cell_type": "code",
   "execution_count": null,
   "id": "4b7df225-f46d-4775-9ffd-050bfdb8aa9e",
   "metadata": {},
   "outputs": [],
   "source": []
  },
  {
   "cell_type": "code",
   "execution_count": null,
   "id": "f4415347-ea6f-484a-a1ea-15ed2da18f0e",
   "metadata": {},
   "outputs": [],
   "source": []
  },
  {
   "cell_type": "code",
   "execution_count": null,
   "id": "8a4ecb30-6f22-4c99-b995-b4635a129fad",
   "metadata": {},
   "outputs": [],
   "source": []
  },
  {
   "cell_type": "code",
   "execution_count": null,
   "id": "66a1030d-38aa-449d-b6bd-566ecbd7e1ea",
   "metadata": {},
   "outputs": [],
   "source": []
  }
 ],
 "metadata": {
  "kernelspec": {
   "display_name": "Python 3 (ipykernel)",
   "language": "python",
   "name": "python3"
  },
  "language_info": {
   "codemirror_mode": {
    "name": "ipython",
    "version": 3
   },
   "file_extension": ".py",
   "mimetype": "text/x-python",
   "name": "python",
   "nbconvert_exporter": "python",
   "pygments_lexer": "ipython3",
   "version": "3.10.12"
  }
 },
 "nbformat": 4,
 "nbformat_minor": 5
}
