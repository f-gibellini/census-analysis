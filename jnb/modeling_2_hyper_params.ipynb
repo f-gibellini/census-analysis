{
 "cells": [
  {
   "cell_type": "code",
   "execution_count": 6,
   "id": "ff03fdcf-4535-4d49-af58-5a4f3c0220bf",
   "metadata": {},
   "outputs": [],
   "source": [
    "from sklearn.linear_model import LogisticRegression\n",
    "from sklearn.tree import DecisionTreeClassifier\n",
    "from sklearn.ensemble import RandomForestClassifier\n",
    "from catboost import CatBoostClassifier\n",
    "from sklearn.model_selection import train_test_split\n",
    "from sklearn.metrics import classification_report\n",
    "from matplotlib import pyplot as plt\n",
    "\n",
    "import pandas as pd\n",
    "import os\n",
    "import sys\n",
    "import warnings\n",
    "warnings.filterwarnings('ignore')\n",
    "\n",
    "if not os.path.abspath(os.pardir) in sys.path:\n",
    "    sys.path.append(os.path.abspath(os.pardir))\n",
    "\n",
    "from src.data_reader import read_data\n",
    "from src.features_processor import FeaturesProcessor\n",
    "from src.ml_experiments import *\n",
    "from src.config import *"
   ]
  },
  {
   "cell_type": "markdown",
   "id": "9bbd3f57-9c1a-4e2c-82ec-31af6866d5a2",
   "metadata": {},
   "source": [
    "### Read Data and prepare features"
   ]
  },
  {
   "cell_type": "code",
   "execution_count": null,
   "id": "3c902027-710b-416f-83c4-fc7ab5edb4ae",
   "metadata": {
    "scrolled": true
   },
   "outputs": [],
   "source": [
    "train_df = read_data(DATA_PATH + TRAIN_FNAME, DATA_PATH + METADATA_FNAME, drop_cols = IGNORE_FEATURES)\n",
    "test_df = read_data(DATA_PATH + TEST_FNAME, DATA_PATH + METADATA_FNAME, drop_cols = IGNORE_FEATURES)\n",
    "\n",
    "test_df.shape, train_df.shape"
   ]
  },
  {
   "cell_type": "code",
   "execution_count": null,
   "id": "72024584-9085-4407-8b67-cb8ac1e475b8",
   "metadata": {},
   "outputs": [],
   "source": [
    "fprocessor = FeaturesProcessor('OHE')\n",
    "\n",
    "encoded_train_df, encoders = fprocessor.transform_features(train_df, make_calculated = True)\n",
    "encoded_test_df, encoders = fprocessor.transform_features(test_df, make_calculated = True)\n",
    "\n",
    "encoded_train_df, encoded_val_df = train_test_split(encoded_train_df, test_size=0.1, random_state=32)\n",
    "\n",
    "\n",
    "encoded_train_df.shape, encoded_val_df.shape, encoded_test_df.shape"
   ]
  },
  {
   "cell_type": "markdown",
   "id": "c7c93b9c-872e-49aa-8819-4dc9b0bfb00f",
   "metadata": {},
   "source": [
    "### Find hyperparameters of best performing model (catboost) using optuna library"
   ]
  },
  {
   "cell_type": "code",
   "execution_count": null,
   "id": "c0291fbe-e3b1-42fd-ae4a-ee8025427af8",
   "metadata": {
    "scrolled": true
   },
   "outputs": [],
   "source": [
    "feat_names = [col for col in encoded_train_df.columns if (col != TARGET_NAME)]\n",
    "best_params, best_score = run_optuna_study(encoded_train_df, feat_names, n_trials=100)"
   ]
  },
  {
   "cell_type": "markdown",
   "id": "13b70f59-2fdc-4196-a505-996151c87357",
   "metadata": {},
   "source": [
    "### Apply this model, training it on train set, later testing on the test set"
   ]
  },
  {
   "cell_type": "code",
   "execution_count": null,
   "id": "1f99cf34-54e2-48b1-ba92-83acf2b30e6c",
   "metadata": {
    "scrolled": true
   },
   "outputs": [],
   "source": [
    "# feature names\n",
    "feat_names = [col for col in encoded_train_df.columns if (col != TARGET_NAME)]\n",
    "\n",
    "#best ones found by longer experiment\n",
    "best_params = {'learning_rate': 0.12287358017398776, 'depth': 4, 'l2_leaf_reg': 0.95198171385157, 'iterations': 2486}\n",
    "\n",
    "# given previous experiment only keep best version of each model\n",
    "\n",
    "models = [ \n",
    "          CatBoostClassifier(**best_params, task_type = 'GPU' if GPU else 'CPU', silent = True, random_state=32),\n",
    "         ]\n",
    "\n",
    "exp_name_base = 'hp_tune'\n",
    "#folder to store artifacts\n",
    "if not os.path.isdir(MODELS_PATH + exp_name_base):\n",
    "    os.mkdir(MODELS_PATH + exp_name_base)\n",
    "\n",
    "for model in models[-1:]:\n",
    "\n",
    "    model.fit(encoded_train_df[feat_names], encoded_train_df[TARGET_NAME])\n",
    "\n",
    "    metrics = evaluate_model(model.predict(encoded_val_df[feat_names]), encoded_val_df[TARGET_NAME])\n",
    "    model_name = get_model_string(model)\n",
    "    \n",
    "    log_model(exp_name_base, model_name,\n",
    "             MODELS_PATH + MODELS_LOG_FNAME,\n",
    "             metrics)\n",
    "\n",
    "    save_model_pickle(model, MODELS_PATH + f'{exp_name_base}/' + model_name[:100] + '.pkl')\n",
    "    print(model_name)\n",
    "    print(metrics)\n",
    "    print()\n",
    "\n"
   ]
  },
  {
   "cell_type": "code",
   "execution_count": null,
   "id": "390cd263-2a08-4d67-b363-06fcafbc8eea",
   "metadata": {},
   "outputs": [],
   "source": [
    "print(classification_report(model.predict(encoded_test_df[feat_names]), encoded_test_df[TARGET_NAME]))"
   ]
  },
  {
   "cell_type": "code",
   "execution_count": null,
   "id": "c9a58310-d49e-4452-b2c2-665078783a1c",
   "metadata": {},
   "outputs": [],
   "source": [
    "evaluate_model(model.predict(encoded_test_df[feat_names]), encoded_test_df[TARGET_NAME])"
   ]
  },
  {
   "cell_type": "markdown",
   "id": "7877cb87-074e-4f42-8278-15fc914d43bb",
   "metadata": {},
   "source": [
    "### Check features importances"
   ]
  },
  {
   "cell_type": "code",
   "execution_count": null,
   "id": "40c4576e-32fd-4b1e-901a-069ef9637f4f",
   "metadata": {},
   "outputs": [],
   "source": [
    "PLOT_MAX = 20\n",
    "importances = sorted([(name,imp/max(model.feature_importances_)) for name, imp in zip(feat_names, model.feature_importances_)], \n",
    "                     key = lambda x:-x[1])[:PLOT_MAX]\n",
    "\n",
    "plt.figure(figsize=(14, 8))\n",
    "plt.bar([e[0] for e in importances], [e[1] for e in importances], color = COLORS[0])\n",
    "plt.title('Feature Importances')\n",
    "plt.xticks(rotation = 90)\n",
    "plt.show()"
   ]
  },
  {
   "cell_type": "code",
   "execution_count": null,
   "id": "b8cf8498-817d-4143-b612-ff018faf22bc",
   "metadata": {},
   "outputs": [],
   "source": []
  }
 ],
 "metadata": {
  "kernelspec": {
   "display_name": "Python 3 (ipykernel)",
   "language": "python",
   "name": "python3"
  },
  "language_info": {
   "codemirror_mode": {
    "name": "ipython",
    "version": 3
   },
   "file_extension": ".py",
   "mimetype": "text/x-python",
   "name": "python",
   "nbconvert_exporter": "python",
   "pygments_lexer": "ipython3",
   "version": "3.10.12"
  }
 },
 "nbformat": 4,
 "nbformat_minor": 5
}
